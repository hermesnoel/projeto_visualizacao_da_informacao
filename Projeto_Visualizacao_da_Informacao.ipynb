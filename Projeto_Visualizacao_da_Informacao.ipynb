{
 "cells": [
  {
   "cell_type": "markdown",
   "id": "75be96f8",
   "metadata": {},
   "source": [
    "### Projeto Visualização da Informação\n",
    "\n",
    "### Olá meu nome é Hermes\n",
    "### Este projeto é uma tarefa da matéria: Visualização da Informação\n",
    "### Universidade Cruzeiro do Sul\n",
    "### Ciência da Computação\n",
    "####  \n",
    "### Obter um dataset  e montar 3 gráficos visto nas aulas\n",
    "### Começando pelas bibliotecas que vou utilizar"
   ]
  },
  {
   "cell_type": "code",
   "execution_count": 1,
   "id": "c13ffc47",
   "metadata": {},
   "outputs": [],
   "source": [
    "from pandas_datareader import data as web\n",
    "import pandas as pd\n",
    "import numpy as np\n",
    "import matplotlib.pyplot as plt"
   ]
  },
  {
   "cell_type": "markdown",
   "id": "b6aed30f",
   "metadata": {},
   "source": [
    "#### O dataset fiz uma pequena carteira de ações com quatro empresas do IBOVESPA  "
   ]
  },
  {
   "cell_type": "code",
   "execution_count": null,
   "id": "16caccb2",
   "metadata": {},
   "outputs": [],
   "source": [
    "empresas = [('Itaú', 'ITUB4.SA'), ('Bradesco', 'BBDC4.SA'), ('Magalu', 'MGLU3.SA')]"
   ]
  },
  {
   "cell_type": "code",
   "execution_count": null,
   "id": "6849cec6",
   "metadata": {},
   "outputs": [],
   "source": [
    "# usando um for de 0 a 3 porque temos três nomes de empresas\n",
    "# quero pegar os tikers de cada uma\n",
    "for i in range(3):\n",
    "    nome = empresas[i][1]\n",
    "    # em uma variavel colocamos os dados que vem do site\n",
    "    cotacao = web.DataReader(f'{nome}', data_source='yahoo',start='2022-5-1', end='2022-5-11')\n",
    "    # aqui pedimos para o python salvar os dados da variavel em um arquivo csv\n",
    "    cotacao.to_csv(f'{nome}.csv')\n",
    "    # arquivos gravados na mesma pasta do projeto"
   ]
  },
  {
   "cell_type": "markdown",
   "id": "19709329",
   "metadata": {},
   "source": [
    "#### usei o pandas_datareader para coletar os dados\n",
    "#### Para utilizar a biblioteca usei o link\n",
    "#### https://pandas-datareader.readthedocs.io/en/latest/remote_data.html\n",
    "#### gravando dados em arquivos csv"
   ]
  },
  {
   "cell_type": "code",
   "execution_count": null,
   "id": "5e714a34",
   "metadata": {},
   "outputs": [],
   "source": [
    "# vamos consultar os dados dos arquivos\n",
    "# colocar os dados dos arquivos csv em data frame \n",
    "itub4_df = pd.read_csv('ITUB4.SA.csv')\n",
    "display(itub4_df)\n",
    "bbdc4_df = pd.read_csv('BBDC4.SA.csv')\n",
    "display(bbdc4_df)\n",
    "mglu3_df = pd.read_csv('MGLU3.SA.csv')\n",
    "display(bbdc4_df)"
   ]
  },
  {
   "cell_type": "markdown",
   "id": "2d1030ca",
   "metadata": {},
   "source": [
    "### Com o dataset pronto\n",
    "### DataFrame com dados de cada arquivo csv\n",
    "### inicia a montagem de cada gráfico"
   ]
  },
  {
   "cell_type": "code",
   "execution_count": null,
   "id": "6908ce68",
   "metadata": {},
   "outputs": [],
   "source": [
    "# abre uma lista vazia\n",
    "volume_vendas = []\n",
    "# pegamos o ultimo valor da coluna Volume de cada data frame e coloca na lista volume_vendas\n",
    "volume_vendas.append(itub4_df['Volume'].iloc[-1])\n",
    "volume_vendas.append(bbdc4_df['Volume'].iloc[-1])\n",
    "volume_vendas.append(mglu3_df['Volume'].iloc[-1])\n",
    "# abre uma lista com cores para ser usada no gráfico\n",
    "cores = ['pink','yellow','cyan']\n",
    "# abre uma lista com rotulos para identificar as empresas\n",
    "rotulos = ['Itau','Bradesco','Magalu']\n",
    "print(volume_vendas)\n",
    "print(cores)\n",
    "print(rotulos)"
   ]
  },
  {
   "cell_type": "markdown",
   "id": "ac09b537",
   "metadata": {},
   "source": [
    "### Criando o gráfico "
   ]
  },
  {
   "cell_type": "code",
   "execution_count": null,
   "id": "42052002",
   "metadata": {},
   "outputs": [],
   "source": [
    "# tamanho da figura 7x7\n",
    "plt.figure(figsize=(7,7))\n",
    "# montar o grafico:\n",
    "# pegamos os dados, os rotulos e as cores \n",
    "# transforma os valores em porcentagem sem casas decimais e o angulo de inicio é de 90 graus\n",
    "plt.pie(volume_vendas, labels=rotulos, colors=cores, autopct=('%1.0f%%''A'), startangle=90)\n",
    "# grafico com eixos iguais para a figura ser igual a uma pizza\n",
    "plt.axis('equal')\n",
    "# coloca um titulo na figura com cor e tamanho da fonte\n",
    "plt.title('Volume de Vendas de Ações em  11/05/2022', color='blue', fontsize=14)\n",
    "# coloco a legenda\n",
    "plt.legend()\n",
    "plt.show()"
   ]
  },
  {
   "cell_type": "markdown",
   "id": "e97005d7",
   "metadata": {},
   "source": [
    "### O grafico mostra quais ações mais negociada no dia escolhido \n",
    "### \n",
    "### Preparando dados para o segundo grafico"
   ]
  },
  {
   "cell_type": "code",
   "execution_count": null,
   "id": "b3b159a1",
   "metadata": {},
   "outputs": [],
   "source": [
    "# montando lista de valores da coluna fechamento ajustado\n",
    "itau = itub4_df['Adj Close']\n",
    "# montando lista bradesco\n",
    "bradesco = bbdc4_df['Adj Close']\n",
    "# montando lista magalu\n",
    "magalu = mglu3_df['Adj Close']\n",
    "# montando a lista de datas do periodo \n",
    "datas = itub4_df['Date']\n",
    "\n",
    "print('ITAU\\n',itau)\n",
    "print('Bradesco\\n',bradesco)\n",
    "print('Magalu\\n',magalu)\n",
    "print('Data\\n',datas)"
   ]
  },
  {
   "cell_type": "markdown",
   "id": "9457cc2c",
   "metadata": {},
   "source": [
    "### Criando o Próximo gráfico "
   ]
  },
  {
   "cell_type": "code",
   "execution_count": null,
   "id": "fef84ab0",
   "metadata": {},
   "outputs": [],
   "source": [
    "# uma lista com os labels\n",
    "labels = ['Itau','Bradesco','Magalu']\n",
    "# tamanho da figura \n",
    "plt.figure(figsize=(13,6))\n",
    "data_x = np.arange(len(datas))\n",
    "# ajustes para que as barras não fiquem uma em cima da outra\n",
    "# aqui uma das barras fica 0.1 a esquerda a largura 0.1 e cor vermelha\n",
    "plt.bar(data_x-0.1, itau, width=0.1,color='red')\n",
    "# esta barra fica no centro tem largura 0.1 de cor azul\n",
    "plt.bar(data_x, bradesco, width=0.1,color='blue')\n",
    "# esta barra fica 0.1 a direita tem largura 0.1 cor='verde'\n",
    "plt.bar(data_x+0.1, magalu, width=0.1,color='green')\n",
    "# coloquei a legenda no centro\n",
    "plt.legend(labels,loc='center')\n",
    "# colocando as datas no eixo x\n",
    "plt.xticks(data_x, datas)\n",
    "# no eixo y coloquei preço minimo da magalu ate preço maximo do itau\n",
    "plt.yticks(np.arange(min(magalu), max(itau)))\n",
    "# coloquei um grid no y para ficar mais visivel\n",
    "plt.grid(color='black', linestyle='--', linewidth=1, axis='y', alpha=0.3)\n",
    "# titulo do grafico\n",
    "plt.title('As variaçoes dos valores das Ações da carteira', color='blue', fontsize=14)\n",
    "# label no eixo x\n",
    "plt.xlabel('Periodo', fontsize=20, color='red')\n",
    "# label no eixo y\n",
    "plt.ylabel('Preços', fontsize=20, color='blue')\n",
    "plt.show()"
   ]
  },
  {
   "cell_type": "markdown",
   "id": "dcd6cd44",
   "metadata": {},
   "source": [
    "#### Neste grafico já conseguimos identificar que o itau teve variação positivas e negativas mas no ultimo dia do período teve sua alta siguinificante.\n",
    "#### O bradesco teve queda no meio do período mas reagiu e fechou o periodo em alta\n",
    "#### A magalu teve na maior parte do período vaiações negativas no ultimo dia acabou fechando em baixa\n",
    "### Utilizando os mesmos dados para o próximo grafico\n",
    "### Criando o ultimo gráfico"
   ]
  },
  {
   "cell_type": "code",
   "execution_count": null,
   "id": "b7bcffbd",
   "metadata": {},
   "outputs": [],
   "source": [
    "# tamanho da figura\n",
    "plt.figure(figsize=(13,7))\n",
    "data_x = np.arange(len(datas))\n",
    "# neste plot dados do anterior cor vermelha largura da linha 0.1 marcador nas datas\n",
    "plt.plot(itau, c='red', lw='1', marker='o', label='ITUB4.SA')# vermelho\n",
    "# neste plot dados do anterior cor azul largura da linha 0.1 marcador nas datas\n",
    "plt.plot(bradesco, c='blue', lw='1', marker='o', label='BBDC4.SA')# azul\n",
    "# neste plot dados do anterior cor verde largura da linha 0.1 marcador nas datas\n",
    "plt.plot(magalu, c='green', lw='1', marker='o', label='MGLU3.SA')# verde\n",
    "# colocar legenda\n",
    "plt.legend()\n",
    "# colocando no eixo x as datas do periodo selecionado\n",
    "plt.xticks(data_x, datas)\n",
    "# no eixo y o valor minimo da magalu e o valor maximo do itau\n",
    "plt.yticks(np.arange(min(magalu), max(itau)))\n",
    "# colocado um grid para a melhor visualização\n",
    "plt.grid(color='black', linestyle='--', linewidth=1, axis='y', alpha=0.3)\n",
    "# colocando titulo\n",
    "plt.title('As variaçoes dos valores das Ações da carteira', color='blue', fontsize=20)\n",
    "# uma label no eixo x\n",
    "plt.xlabel('Periodo', fontsize=20, color='red')# vermelho\n",
    "# uma label no eixo y\n",
    "plt.ylabel('Preços', fontsize=20, color='blue')# azul\n",
    "plt.show()"
   ]
  },
  {
   "cell_type": "markdown",
   "id": "71a5a2aa",
   "metadata": {},
   "source": [
    "#### Neste grafico ficou bem claro as variações das empresas e o resultado no final do período"
   ]
  }
 ],
 "metadata": {
  "kernelspec": {
   "display_name": "Python 3 (ipykernel)",
   "language": "python",
   "name": "python3"
  },
  "language_info": {
   "codemirror_mode": {
    "name": "ipython",
    "version": 3
   },
   "file_extension": ".py",
   "mimetype": "text/x-python",
   "name": "python",
   "nbconvert_exporter": "python",
   "pygments_lexer": "ipython3",
   "version": "3.9.7"
  }
 },
 "nbformat": 4,
 "nbformat_minor": 5
}
